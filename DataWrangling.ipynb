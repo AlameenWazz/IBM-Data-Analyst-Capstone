{
  "cells": [
    {
      "cell_type": "markdown",
      "metadata": {
        "id": "view-in-github",
        "colab_type": "text"
      },
      "source": [
        "<a href=\"https://colab.research.google.com/github/AlameenWazz/IBM-Data-Analyst-Capstone/blob/main/DataWrangling.ipynb\" target=\"_parent\"><img src=\"https://colab.research.google.com/assets/colab-badge.svg\" alt=\"Open In Colab\"/></a>"
      ]
    },
    {
      "cell_type": "markdown",
      "metadata": {
        "id": "FmG1xz0phZIf"
      },
      "source": [
        "<p style=\"text-align:center\">\n",
        "    <a href=\"https://skills.network/?utm_medium=Exinfluencer&utm_source=Exinfluencer&utm_content=000026UJ&utm_term=10006555&utm_id=NA-SkillsNetwork-Channel-SkillsNetworkCoursesIBMDA0321ENSkillsNetwork928-2022-01-01\" target=\"_blank\">\n",
        "    <img src=\"https://cf-courses-data.s3.us.cloud-object-storage.appdomain.cloud/assets/logos/SN_web_lightmode.png\" width=\"200\" alt=\"Skills Network Logo\"  />\n",
        "    </a>\n",
        "</p>\n"
      ]
    },
    {
      "cell_type": "markdown",
      "metadata": {
        "id": "ds4ODkPWhZIi"
      },
      "source": [
        "# **Data Wrangling Lab**\n"
      ]
    },
    {
      "cell_type": "markdown",
      "metadata": {
        "id": "jTSHxBM6hZIj"
      },
      "source": [
        "Estimated time needed: **45 to 60** minutes\n"
      ]
    },
    {
      "cell_type": "markdown",
      "metadata": {
        "id": "iBpBwh4PhZIj"
      },
      "source": [
        "In this assignment you will be performing data wrangling.\n"
      ]
    },
    {
      "cell_type": "markdown",
      "metadata": {
        "id": "_bXd0SdghZIj"
      },
      "source": [
        "## Objectives\n"
      ]
    },
    {
      "cell_type": "markdown",
      "metadata": {
        "id": "mxaj4tPKhZIk"
      },
      "source": [
        "In this lab you will perform the following:\n"
      ]
    },
    {
      "cell_type": "markdown",
      "metadata": {
        "id": "5LR1pNYChZIk"
      },
      "source": [
        "-   Identify duplicate values in the dataset.\n",
        "\n",
        "-   Remove duplicate values from the dataset.\n",
        "\n",
        "-   Identify missing values in the dataset.\n",
        "\n",
        "-   Impute the missing values in the dataset.\n",
        "\n",
        "-   Normalize data in the dataset.\n"
      ]
    },
    {
      "cell_type": "markdown",
      "metadata": {
        "id": "IUiAhPBhhZIk"
      },
      "source": [
        "<hr>\n"
      ]
    },
    {
      "cell_type": "markdown",
      "metadata": {
        "id": "tbQAmvuXhZIk"
      },
      "source": [
        "## Hands on Lab\n"
      ]
    },
    {
      "cell_type": "markdown",
      "metadata": {
        "id": "tU7b-07jhZIl"
      },
      "source": [
        "Import pandas module.\n"
      ]
    },
    {
      "cell_type": "code",
      "execution_count": 1,
      "metadata": {
        "id": "_pnu0YfehZIl"
      },
      "outputs": [],
      "source": [
        "import pandas as pd"
      ]
    },
    {
      "cell_type": "markdown",
      "metadata": {
        "id": "-pqP6CZIhZIm"
      },
      "source": [
        "Load the dataset into a dataframe.\n"
      ]
    },
    {
      "cell_type": "code",
      "execution_count": 2,
      "metadata": {
        "id": "IzTp0iFZhZIm"
      },
      "outputs": [],
      "source": [
        "df = pd.read_csv(\"https://cf-courses-data.s3.us.cloud-object-storage.appdomain.cloud/IBM-DA0321EN-SkillsNetwork/LargeData/m1_survey_data.csv\")"
      ]
    },
    {
      "cell_type": "markdown",
      "metadata": {
        "id": "_E-GHoGNhZIm"
      },
      "source": [
        "## Finding duplicates\n"
      ]
    },
    {
      "cell_type": "markdown",
      "metadata": {
        "id": "c57UVlcKhZIm"
      },
      "source": [
        "In this section you will identify duplicate values in the dataset.\n"
      ]
    },
    {
      "cell_type": "markdown",
      "metadata": {
        "id": "qbhtiCqRhZIm"
      },
      "source": [
        " Find how many duplicate rows exist in the dataframe.\n"
      ]
    },
    {
      "cell_type": "code",
      "execution_count": 3,
      "metadata": {
        "colab": {
          "base_uri": "https://localhost:8080/"
        },
        "id": "oDrYinFxhZIn",
        "outputId": "c027f279-c566-4674-e79b-72d44eeca935"
      },
      "outputs": [
        {
          "output_type": "execute_result",
          "data": {
            "text/plain": [
              "154"
            ]
          },
          "metadata": {},
          "execution_count": 3
        }
      ],
      "source": [
        "df.duplicated().sum()\n"
      ]
    },
    {
      "cell_type": "markdown",
      "metadata": {
        "id": "819z8ZuohZIn"
      },
      "source": [
        "## Removing duplicates\n"
      ]
    },
    {
      "cell_type": "markdown",
      "metadata": {
        "id": "K1HBHixNhZIn"
      },
      "source": [
        "Remove the duplicate rows from the dataframe.\n"
      ]
    },
    {
      "cell_type": "code",
      "execution_count": 9,
      "metadata": {
        "colab": {
          "base_uri": "https://localhost:8080/",
          "height": 1000
        },
        "id": "mhXBxN1hhZIn",
        "outputId": "2165f65f-072f-4a8d-f8c5-d194f21195aa"
      },
      "outputs": [
        {
          "output_type": "execute_result",
          "data": {
            "text/plain": [
              "       Respondent                      MainBranch Hobbyist  \\\n",
              "0               4  I am a developer by profession       No   \n",
              "1               9  I am a developer by profession      Yes   \n",
              "2              13  I am a developer by profession      Yes   \n",
              "3              16  I am a developer by profession      Yes   \n",
              "4              17  I am a developer by profession      Yes   \n",
              "...           ...                             ...      ...   \n",
              "11547       25136  I am a developer by profession      Yes   \n",
              "11548       25137  I am a developer by profession      Yes   \n",
              "11549       25138  I am a developer by profession      Yes   \n",
              "11550       25141  I am a developer by profession      Yes   \n",
              "11551       25142  I am a developer by profession      Yes   \n",
              "\n",
              "                                             OpenSourcer  \\\n",
              "0                                                  Never   \n",
              "1                             Once a month or more often   \n",
              "2      Less than once a month but more than once per ...   \n",
              "3                                                  Never   \n",
              "4      Less than once a month but more than once per ...   \n",
              "...                                                  ...   \n",
              "11547                                              Never   \n",
              "11548                                              Never   \n",
              "11549                            Less than once per year   \n",
              "11550  Less than once a month but more than once per ...   \n",
              "11551  Less than once a month but more than once per ...   \n",
              "\n",
              "                                              OpenSource          Employment  \\\n",
              "0      The quality of OSS and closed source software ...  Employed full-time   \n",
              "1      The quality of OSS and closed source software ...  Employed full-time   \n",
              "2      OSS is, on average, of HIGHER quality than pro...  Employed full-time   \n",
              "3      The quality of OSS and closed source software ...  Employed full-time   \n",
              "4      The quality of OSS and closed source software ...  Employed full-time   \n",
              "...                                                  ...                 ...   \n",
              "11547  OSS is, on average, of HIGHER quality than pro...  Employed full-time   \n",
              "11548  The quality of OSS and closed source software ...  Employed full-time   \n",
              "11549  The quality of OSS and closed source software ...  Employed full-time   \n",
              "11550  OSS is, on average, of LOWER quality than prop...  Employed full-time   \n",
              "11551  OSS is, on average, of HIGHER quality than pro...  Employed full-time   \n",
              "\n",
              "              Country Student  \\\n",
              "0       United States      No   \n",
              "1         New Zealand      No   \n",
              "2       United States      No   \n",
              "3      United Kingdom      No   \n",
              "4           Australia      No   \n",
              "...               ...     ...   \n",
              "11547   United States      No   \n",
              "11548          Poland      No   \n",
              "11549   United States      No   \n",
              "11550     Switzerland      No   \n",
              "11551  United Kingdom      No   \n",
              "\n",
              "                                                 EdLevel  \\\n",
              "0               Bachelor’s degree (BA, BS, B.Eng., etc.)   \n",
              "1      Some college/university study without earning ...   \n",
              "2            Master’s degree (MA, MS, M.Eng., MBA, etc.)   \n",
              "3            Master’s degree (MA, MS, M.Eng., MBA, etc.)   \n",
              "4               Bachelor’s degree (BA, BS, B.Eng., etc.)   \n",
              "...                                                  ...   \n",
              "11547        Master’s degree (MA, MS, M.Eng., MBA, etc.)   \n",
              "11548        Master’s degree (MA, MS, M.Eng., MBA, etc.)   \n",
              "11549        Master’s degree (MA, MS, M.Eng., MBA, etc.)   \n",
              "11550  Secondary school (e.g. American high school, G...   \n",
              "11551          Other doctoral degree (Ph.D, Ed.D., etc.)   \n",
              "\n",
              "                                          UndergradMajor  ...  \\\n",
              "0      Computer science, computer engineering, or sof...  ...   \n",
              "1      Computer science, computer engineering, or sof...  ...   \n",
              "2      Computer science, computer engineering, or sof...  ...   \n",
              "3                                                    NaN  ...   \n",
              "4      Computer science, computer engineering, or sof...  ...   \n",
              "...                                                  ...  ...   \n",
              "11547  Computer science, computer engineering, or sof...  ...   \n",
              "11548  Computer science, computer engineering, or sof...  ...   \n",
              "11549  Computer science, computer engineering, or sof...  ...   \n",
              "11550                                                NaN  ...   \n",
              "11551  A natural science (ex. biology, chemistry, phy...  ...   \n",
              "\n",
              "                                  WelcomeChange  \\\n",
              "0       Just as welcome now as I felt last year   \n",
              "1       Just as welcome now as I felt last year   \n",
              "2      Somewhat more welcome now than last year   \n",
              "3       Just as welcome now as I felt last year   \n",
              "4       Just as welcome now as I felt last year   \n",
              "...                                         ...   \n",
              "11547   Just as welcome now as I felt last year   \n",
              "11548     A lot more welcome now than last year   \n",
              "11549     A lot more welcome now than last year   \n",
              "11550  Somewhat less welcome now than last year   \n",
              "11551   Just as welcome now as I felt last year   \n",
              "\n",
              "                                            SONewContent   Age Gender Trans  \\\n",
              "0      Tech articles written by other developers;Indu...  22.0    Man    No   \n",
              "1                                                    NaN  23.0    Man    No   \n",
              "2      Tech articles written by other developers;Cour...  28.0    Man    No   \n",
              "3      Tech articles written by other developers;Indu...  26.0    Man    No   \n",
              "4      Tech articles written by other developers;Indu...  29.0    Man    No   \n",
              "...                                                  ...   ...    ...   ...   \n",
              "11547  Tech articles written by other developers;Cour...  36.0    Man    No   \n",
              "11548  Tech articles written by other developers;Tech...  25.0    Man    No   \n",
              "11549  Tech articles written by other developers;Indu...  34.0    Man    No   \n",
              "11550                                                NaN  25.0    Man    No   \n",
              "11551  Tech articles written by other developers;Tech...  30.0    Man    No   \n",
              "\n",
              "                     Sexuality                              Ethnicity  \\\n",
              "0      Straight / Heterosexual           White or of European descent   \n",
              "1                     Bisexual           White or of European descent   \n",
              "2      Straight / Heterosexual           White or of European descent   \n",
              "3      Straight / Heterosexual           White or of European descent   \n",
              "4      Straight / Heterosexual  Hispanic or Latino/Latina;Multiracial   \n",
              "...                        ...                                    ...   \n",
              "11547  Straight / Heterosexual           White or of European descent   \n",
              "11548  Straight / Heterosexual           White or of European descent   \n",
              "11549  Straight / Heterosexual           White or of European descent   \n",
              "11550  Straight / Heterosexual           White or of European descent   \n",
              "11551                 Bisexual           White or of European descent   \n",
              "\n",
              "      Dependents           SurveyLength                  SurveyEase  \n",
              "0             No  Appropriate in length                        Easy  \n",
              "1             No  Appropriate in length  Neither easy nor difficult  \n",
              "2            Yes  Appropriate in length                        Easy  \n",
              "3             No  Appropriate in length  Neither easy nor difficult  \n",
              "4             No  Appropriate in length                        Easy  \n",
              "...          ...                    ...                         ...  \n",
              "11547         No  Appropriate in length                   Difficult  \n",
              "11548         No  Appropriate in length  Neither easy nor difficult  \n",
              "11549        Yes               Too long                        Easy  \n",
              "11550         No  Appropriate in length                        Easy  \n",
              "11551         No  Appropriate in length                        Easy  \n",
              "\n",
              "[11398 rows x 85 columns]"
            ],
            "text/html": [
              "\n",
              "  <div id=\"df-fba2a84c-c40e-4b01-b59f-7591c6ae8a29\" class=\"colab-df-container\">\n",
              "    <div>\n",
              "<style scoped>\n",
              "    .dataframe tbody tr th:only-of-type {\n",
              "        vertical-align: middle;\n",
              "    }\n",
              "\n",
              "    .dataframe tbody tr th {\n",
              "        vertical-align: top;\n",
              "    }\n",
              "\n",
              "    .dataframe thead th {\n",
              "        text-align: right;\n",
              "    }\n",
              "</style>\n",
              "<table border=\"1\" class=\"dataframe\">\n",
              "  <thead>\n",
              "    <tr style=\"text-align: right;\">\n",
              "      <th></th>\n",
              "      <th>Respondent</th>\n",
              "      <th>MainBranch</th>\n",
              "      <th>Hobbyist</th>\n",
              "      <th>OpenSourcer</th>\n",
              "      <th>OpenSource</th>\n",
              "      <th>Employment</th>\n",
              "      <th>Country</th>\n",
              "      <th>Student</th>\n",
              "      <th>EdLevel</th>\n",
              "      <th>UndergradMajor</th>\n",
              "      <th>...</th>\n",
              "      <th>WelcomeChange</th>\n",
              "      <th>SONewContent</th>\n",
              "      <th>Age</th>\n",
              "      <th>Gender</th>\n",
              "      <th>Trans</th>\n",
              "      <th>Sexuality</th>\n",
              "      <th>Ethnicity</th>\n",
              "      <th>Dependents</th>\n",
              "      <th>SurveyLength</th>\n",
              "      <th>SurveyEase</th>\n",
              "    </tr>\n",
              "  </thead>\n",
              "  <tbody>\n",
              "    <tr>\n",
              "      <th>0</th>\n",
              "      <td>4</td>\n",
              "      <td>I am a developer by profession</td>\n",
              "      <td>No</td>\n",
              "      <td>Never</td>\n",
              "      <td>The quality of OSS and closed source software ...</td>\n",
              "      <td>Employed full-time</td>\n",
              "      <td>United States</td>\n",
              "      <td>No</td>\n",
              "      <td>Bachelor’s degree (BA, BS, B.Eng., etc.)</td>\n",
              "      <td>Computer science, computer engineering, or sof...</td>\n",
              "      <td>...</td>\n",
              "      <td>Just as welcome now as I felt last year</td>\n",
              "      <td>Tech articles written by other developers;Indu...</td>\n",
              "      <td>22.0</td>\n",
              "      <td>Man</td>\n",
              "      <td>No</td>\n",
              "      <td>Straight / Heterosexual</td>\n",
              "      <td>White or of European descent</td>\n",
              "      <td>No</td>\n",
              "      <td>Appropriate in length</td>\n",
              "      <td>Easy</td>\n",
              "    </tr>\n",
              "    <tr>\n",
              "      <th>1</th>\n",
              "      <td>9</td>\n",
              "      <td>I am a developer by profession</td>\n",
              "      <td>Yes</td>\n",
              "      <td>Once a month or more often</td>\n",
              "      <td>The quality of OSS and closed source software ...</td>\n",
              "      <td>Employed full-time</td>\n",
              "      <td>New Zealand</td>\n",
              "      <td>No</td>\n",
              "      <td>Some college/university study without earning ...</td>\n",
              "      <td>Computer science, computer engineering, or sof...</td>\n",
              "      <td>...</td>\n",
              "      <td>Just as welcome now as I felt last year</td>\n",
              "      <td>NaN</td>\n",
              "      <td>23.0</td>\n",
              "      <td>Man</td>\n",
              "      <td>No</td>\n",
              "      <td>Bisexual</td>\n",
              "      <td>White or of European descent</td>\n",
              "      <td>No</td>\n",
              "      <td>Appropriate in length</td>\n",
              "      <td>Neither easy nor difficult</td>\n",
              "    </tr>\n",
              "    <tr>\n",
              "      <th>2</th>\n",
              "      <td>13</td>\n",
              "      <td>I am a developer by profession</td>\n",
              "      <td>Yes</td>\n",
              "      <td>Less than once a month but more than once per ...</td>\n",
              "      <td>OSS is, on average, of HIGHER quality than pro...</td>\n",
              "      <td>Employed full-time</td>\n",
              "      <td>United States</td>\n",
              "      <td>No</td>\n",
              "      <td>Master’s degree (MA, MS, M.Eng., MBA, etc.)</td>\n",
              "      <td>Computer science, computer engineering, or sof...</td>\n",
              "      <td>...</td>\n",
              "      <td>Somewhat more welcome now than last year</td>\n",
              "      <td>Tech articles written by other developers;Cour...</td>\n",
              "      <td>28.0</td>\n",
              "      <td>Man</td>\n",
              "      <td>No</td>\n",
              "      <td>Straight / Heterosexual</td>\n",
              "      <td>White or of European descent</td>\n",
              "      <td>Yes</td>\n",
              "      <td>Appropriate in length</td>\n",
              "      <td>Easy</td>\n",
              "    </tr>\n",
              "    <tr>\n",
              "      <th>3</th>\n",
              "      <td>16</td>\n",
              "      <td>I am a developer by profession</td>\n",
              "      <td>Yes</td>\n",
              "      <td>Never</td>\n",
              "      <td>The quality of OSS and closed source software ...</td>\n",
              "      <td>Employed full-time</td>\n",
              "      <td>United Kingdom</td>\n",
              "      <td>No</td>\n",
              "      <td>Master’s degree (MA, MS, M.Eng., MBA, etc.)</td>\n",
              "      <td>NaN</td>\n",
              "      <td>...</td>\n",
              "      <td>Just as welcome now as I felt last year</td>\n",
              "      <td>Tech articles written by other developers;Indu...</td>\n",
              "      <td>26.0</td>\n",
              "      <td>Man</td>\n",
              "      <td>No</td>\n",
              "      <td>Straight / Heterosexual</td>\n",
              "      <td>White or of European descent</td>\n",
              "      <td>No</td>\n",
              "      <td>Appropriate in length</td>\n",
              "      <td>Neither easy nor difficult</td>\n",
              "    </tr>\n",
              "    <tr>\n",
              "      <th>4</th>\n",
              "      <td>17</td>\n",
              "      <td>I am a developer by profession</td>\n",
              "      <td>Yes</td>\n",
              "      <td>Less than once a month but more than once per ...</td>\n",
              "      <td>The quality of OSS and closed source software ...</td>\n",
              "      <td>Employed full-time</td>\n",
              "      <td>Australia</td>\n",
              "      <td>No</td>\n",
              "      <td>Bachelor’s degree (BA, BS, B.Eng., etc.)</td>\n",
              "      <td>Computer science, computer engineering, or sof...</td>\n",
              "      <td>...</td>\n",
              "      <td>Just as welcome now as I felt last year</td>\n",
              "      <td>Tech articles written by other developers;Indu...</td>\n",
              "      <td>29.0</td>\n",
              "      <td>Man</td>\n",
              "      <td>No</td>\n",
              "      <td>Straight / Heterosexual</td>\n",
              "      <td>Hispanic or Latino/Latina;Multiracial</td>\n",
              "      <td>No</td>\n",
              "      <td>Appropriate in length</td>\n",
              "      <td>Easy</td>\n",
              "    </tr>\n",
              "    <tr>\n",
              "      <th>...</th>\n",
              "      <td>...</td>\n",
              "      <td>...</td>\n",
              "      <td>...</td>\n",
              "      <td>...</td>\n",
              "      <td>...</td>\n",
              "      <td>...</td>\n",
              "      <td>...</td>\n",
              "      <td>...</td>\n",
              "      <td>...</td>\n",
              "      <td>...</td>\n",
              "      <td>...</td>\n",
              "      <td>...</td>\n",
              "      <td>...</td>\n",
              "      <td>...</td>\n",
              "      <td>...</td>\n",
              "      <td>...</td>\n",
              "      <td>...</td>\n",
              "      <td>...</td>\n",
              "      <td>...</td>\n",
              "      <td>...</td>\n",
              "      <td>...</td>\n",
              "    </tr>\n",
              "    <tr>\n",
              "      <th>11547</th>\n",
              "      <td>25136</td>\n",
              "      <td>I am a developer by profession</td>\n",
              "      <td>Yes</td>\n",
              "      <td>Never</td>\n",
              "      <td>OSS is, on average, of HIGHER quality than pro...</td>\n",
              "      <td>Employed full-time</td>\n",
              "      <td>United States</td>\n",
              "      <td>No</td>\n",
              "      <td>Master’s degree (MA, MS, M.Eng., MBA, etc.)</td>\n",
              "      <td>Computer science, computer engineering, or sof...</td>\n",
              "      <td>...</td>\n",
              "      <td>Just as welcome now as I felt last year</td>\n",
              "      <td>Tech articles written by other developers;Cour...</td>\n",
              "      <td>36.0</td>\n",
              "      <td>Man</td>\n",
              "      <td>No</td>\n",
              "      <td>Straight / Heterosexual</td>\n",
              "      <td>White or of European descent</td>\n",
              "      <td>No</td>\n",
              "      <td>Appropriate in length</td>\n",
              "      <td>Difficult</td>\n",
              "    </tr>\n",
              "    <tr>\n",
              "      <th>11548</th>\n",
              "      <td>25137</td>\n",
              "      <td>I am a developer by profession</td>\n",
              "      <td>Yes</td>\n",
              "      <td>Never</td>\n",
              "      <td>The quality of OSS and closed source software ...</td>\n",
              "      <td>Employed full-time</td>\n",
              "      <td>Poland</td>\n",
              "      <td>No</td>\n",
              "      <td>Master’s degree (MA, MS, M.Eng., MBA, etc.)</td>\n",
              "      <td>Computer science, computer engineering, or sof...</td>\n",
              "      <td>...</td>\n",
              "      <td>A lot more welcome now than last year</td>\n",
              "      <td>Tech articles written by other developers;Tech...</td>\n",
              "      <td>25.0</td>\n",
              "      <td>Man</td>\n",
              "      <td>No</td>\n",
              "      <td>Straight / Heterosexual</td>\n",
              "      <td>White or of European descent</td>\n",
              "      <td>No</td>\n",
              "      <td>Appropriate in length</td>\n",
              "      <td>Neither easy nor difficult</td>\n",
              "    </tr>\n",
              "    <tr>\n",
              "      <th>11549</th>\n",
              "      <td>25138</td>\n",
              "      <td>I am a developer by profession</td>\n",
              "      <td>Yes</td>\n",
              "      <td>Less than once per year</td>\n",
              "      <td>The quality of OSS and closed source software ...</td>\n",
              "      <td>Employed full-time</td>\n",
              "      <td>United States</td>\n",
              "      <td>No</td>\n",
              "      <td>Master’s degree (MA, MS, M.Eng., MBA, etc.)</td>\n",
              "      <td>Computer science, computer engineering, or sof...</td>\n",
              "      <td>...</td>\n",
              "      <td>A lot more welcome now than last year</td>\n",
              "      <td>Tech articles written by other developers;Indu...</td>\n",
              "      <td>34.0</td>\n",
              "      <td>Man</td>\n",
              "      <td>No</td>\n",
              "      <td>Straight / Heterosexual</td>\n",
              "      <td>White or of European descent</td>\n",
              "      <td>Yes</td>\n",
              "      <td>Too long</td>\n",
              "      <td>Easy</td>\n",
              "    </tr>\n",
              "    <tr>\n",
              "      <th>11550</th>\n",
              "      <td>25141</td>\n",
              "      <td>I am a developer by profession</td>\n",
              "      <td>Yes</td>\n",
              "      <td>Less than once a month but more than once per ...</td>\n",
              "      <td>OSS is, on average, of LOWER quality than prop...</td>\n",
              "      <td>Employed full-time</td>\n",
              "      <td>Switzerland</td>\n",
              "      <td>No</td>\n",
              "      <td>Secondary school (e.g. American high school, G...</td>\n",
              "      <td>NaN</td>\n",
              "      <td>...</td>\n",
              "      <td>Somewhat less welcome now than last year</td>\n",
              "      <td>NaN</td>\n",
              "      <td>25.0</td>\n",
              "      <td>Man</td>\n",
              "      <td>No</td>\n",
              "      <td>Straight / Heterosexual</td>\n",
              "      <td>White or of European descent</td>\n",
              "      <td>No</td>\n",
              "      <td>Appropriate in length</td>\n",
              "      <td>Easy</td>\n",
              "    </tr>\n",
              "    <tr>\n",
              "      <th>11551</th>\n",
              "      <td>25142</td>\n",
              "      <td>I am a developer by profession</td>\n",
              "      <td>Yes</td>\n",
              "      <td>Less than once a month but more than once per ...</td>\n",
              "      <td>OSS is, on average, of HIGHER quality than pro...</td>\n",
              "      <td>Employed full-time</td>\n",
              "      <td>United Kingdom</td>\n",
              "      <td>No</td>\n",
              "      <td>Other doctoral degree (Ph.D, Ed.D., etc.)</td>\n",
              "      <td>A natural science (ex. biology, chemistry, phy...</td>\n",
              "      <td>...</td>\n",
              "      <td>Just as welcome now as I felt last year</td>\n",
              "      <td>Tech articles written by other developers;Tech...</td>\n",
              "      <td>30.0</td>\n",
              "      <td>Man</td>\n",
              "      <td>No</td>\n",
              "      <td>Bisexual</td>\n",
              "      <td>White or of European descent</td>\n",
              "      <td>No</td>\n",
              "      <td>Appropriate in length</td>\n",
              "      <td>Easy</td>\n",
              "    </tr>\n",
              "  </tbody>\n",
              "</table>\n",
              "<p>11398 rows × 85 columns</p>\n",
              "</div>\n",
              "    <div class=\"colab-df-buttons\">\n",
              "\n",
              "  <div class=\"colab-df-container\">\n",
              "    <button class=\"colab-df-convert\" onclick=\"convertToInteractive('df-fba2a84c-c40e-4b01-b59f-7591c6ae8a29')\"\n",
              "            title=\"Convert this dataframe to an interactive table.\"\n",
              "            style=\"display:none;\">\n",
              "\n",
              "  <svg xmlns=\"http://www.w3.org/2000/svg\" height=\"24px\" viewBox=\"0 -960 960 960\">\n",
              "    <path d=\"M120-120v-720h720v720H120Zm60-500h600v-160H180v160Zm220 220h160v-160H400v160Zm0 220h160v-160H400v160ZM180-400h160v-160H180v160Zm440 0h160v-160H620v160ZM180-180h160v-160H180v160Zm440 0h160v-160H620v160Z\"/>\n",
              "  </svg>\n",
              "    </button>\n",
              "\n",
              "  <style>\n",
              "    .colab-df-container {\n",
              "      display:flex;\n",
              "      gap: 12px;\n",
              "    }\n",
              "\n",
              "    .colab-df-convert {\n",
              "      background-color: #E8F0FE;\n",
              "      border: none;\n",
              "      border-radius: 50%;\n",
              "      cursor: pointer;\n",
              "      display: none;\n",
              "      fill: #1967D2;\n",
              "      height: 32px;\n",
              "      padding: 0 0 0 0;\n",
              "      width: 32px;\n",
              "    }\n",
              "\n",
              "    .colab-df-convert:hover {\n",
              "      background-color: #E2EBFA;\n",
              "      box-shadow: 0px 1px 2px rgba(60, 64, 67, 0.3), 0px 1px 3px 1px rgba(60, 64, 67, 0.15);\n",
              "      fill: #174EA6;\n",
              "    }\n",
              "\n",
              "    .colab-df-buttons div {\n",
              "      margin-bottom: 4px;\n",
              "    }\n",
              "\n",
              "    [theme=dark] .colab-df-convert {\n",
              "      background-color: #3B4455;\n",
              "      fill: #D2E3FC;\n",
              "    }\n",
              "\n",
              "    [theme=dark] .colab-df-convert:hover {\n",
              "      background-color: #434B5C;\n",
              "      box-shadow: 0px 1px 3px 1px rgba(0, 0, 0, 0.15);\n",
              "      filter: drop-shadow(0px 1px 2px rgba(0, 0, 0, 0.3));\n",
              "      fill: #FFFFFF;\n",
              "    }\n",
              "  </style>\n",
              "\n",
              "    <script>\n",
              "      const buttonEl =\n",
              "        document.querySelector('#df-fba2a84c-c40e-4b01-b59f-7591c6ae8a29 button.colab-df-convert');\n",
              "      buttonEl.style.display =\n",
              "        google.colab.kernel.accessAllowed ? 'block' : 'none';\n",
              "\n",
              "      async function convertToInteractive(key) {\n",
              "        const element = document.querySelector('#df-fba2a84c-c40e-4b01-b59f-7591c6ae8a29');\n",
              "        const dataTable =\n",
              "          await google.colab.kernel.invokeFunction('convertToInteractive',\n",
              "                                                    [key], {});\n",
              "        if (!dataTable) return;\n",
              "\n",
              "        const docLinkHtml = 'Like what you see? Visit the ' +\n",
              "          '<a target=\"_blank\" href=https://colab.research.google.com/notebooks/data_table.ipynb>data table notebook</a>'\n",
              "          + ' to learn more about interactive tables.';\n",
              "        element.innerHTML = '';\n",
              "        dataTable['output_type'] = 'display_data';\n",
              "        await google.colab.output.renderOutput(dataTable, element);\n",
              "        const docLink = document.createElement('div');\n",
              "        docLink.innerHTML = docLinkHtml;\n",
              "        element.appendChild(docLink);\n",
              "      }\n",
              "    </script>\n",
              "  </div>\n",
              "\n",
              "\n",
              "<div id=\"df-394480ac-bce1-4194-a546-699ab67c00d3\">\n",
              "  <button class=\"colab-df-quickchart\" onclick=\"quickchart('df-394480ac-bce1-4194-a546-699ab67c00d3')\"\n",
              "            title=\"Suggest charts\"\n",
              "            style=\"display:none;\">\n",
              "\n",
              "<svg xmlns=\"http://www.w3.org/2000/svg\" height=\"24px\"viewBox=\"0 0 24 24\"\n",
              "     width=\"24px\">\n",
              "    <g>\n",
              "        <path d=\"M19 3H5c-1.1 0-2 .9-2 2v14c0 1.1.9 2 2 2h14c1.1 0 2-.9 2-2V5c0-1.1-.9-2-2-2zM9 17H7v-7h2v7zm4 0h-2V7h2v10zm4 0h-2v-4h2v4z\"/>\n",
              "    </g>\n",
              "</svg>\n",
              "  </button>\n",
              "\n",
              "<style>\n",
              "  .colab-df-quickchart {\n",
              "      --bg-color: #E8F0FE;\n",
              "      --fill-color: #1967D2;\n",
              "      --hover-bg-color: #E2EBFA;\n",
              "      --hover-fill-color: #174EA6;\n",
              "      --disabled-fill-color: #AAA;\n",
              "      --disabled-bg-color: #DDD;\n",
              "  }\n",
              "\n",
              "  [theme=dark] .colab-df-quickchart {\n",
              "      --bg-color: #3B4455;\n",
              "      --fill-color: #D2E3FC;\n",
              "      --hover-bg-color: #434B5C;\n",
              "      --hover-fill-color: #FFFFFF;\n",
              "      --disabled-bg-color: #3B4455;\n",
              "      --disabled-fill-color: #666;\n",
              "  }\n",
              "\n",
              "  .colab-df-quickchart {\n",
              "    background-color: var(--bg-color);\n",
              "    border: none;\n",
              "    border-radius: 50%;\n",
              "    cursor: pointer;\n",
              "    display: none;\n",
              "    fill: var(--fill-color);\n",
              "    height: 32px;\n",
              "    padding: 0;\n",
              "    width: 32px;\n",
              "  }\n",
              "\n",
              "  .colab-df-quickchart:hover {\n",
              "    background-color: var(--hover-bg-color);\n",
              "    box-shadow: 0 1px 2px rgba(60, 64, 67, 0.3), 0 1px 3px 1px rgba(60, 64, 67, 0.15);\n",
              "    fill: var(--button-hover-fill-color);\n",
              "  }\n",
              "\n",
              "  .colab-df-quickchart-complete:disabled,\n",
              "  .colab-df-quickchart-complete:disabled:hover {\n",
              "    background-color: var(--disabled-bg-color);\n",
              "    fill: var(--disabled-fill-color);\n",
              "    box-shadow: none;\n",
              "  }\n",
              "\n",
              "  .colab-df-spinner {\n",
              "    border: 2px solid var(--fill-color);\n",
              "    border-color: transparent;\n",
              "    border-bottom-color: var(--fill-color);\n",
              "    animation:\n",
              "      spin 1s steps(1) infinite;\n",
              "  }\n",
              "\n",
              "  @keyframes spin {\n",
              "    0% {\n",
              "      border-color: transparent;\n",
              "      border-bottom-color: var(--fill-color);\n",
              "      border-left-color: var(--fill-color);\n",
              "    }\n",
              "    20% {\n",
              "      border-color: transparent;\n",
              "      border-left-color: var(--fill-color);\n",
              "      border-top-color: var(--fill-color);\n",
              "    }\n",
              "    30% {\n",
              "      border-color: transparent;\n",
              "      border-left-color: var(--fill-color);\n",
              "      border-top-color: var(--fill-color);\n",
              "      border-right-color: var(--fill-color);\n",
              "    }\n",
              "    40% {\n",
              "      border-color: transparent;\n",
              "      border-right-color: var(--fill-color);\n",
              "      border-top-color: var(--fill-color);\n",
              "    }\n",
              "    60% {\n",
              "      border-color: transparent;\n",
              "      border-right-color: var(--fill-color);\n",
              "    }\n",
              "    80% {\n",
              "      border-color: transparent;\n",
              "      border-right-color: var(--fill-color);\n",
              "      border-bottom-color: var(--fill-color);\n",
              "    }\n",
              "    90% {\n",
              "      border-color: transparent;\n",
              "      border-bottom-color: var(--fill-color);\n",
              "    }\n",
              "  }\n",
              "</style>\n",
              "\n",
              "  <script>\n",
              "    async function quickchart(key) {\n",
              "      const quickchartButtonEl =\n",
              "        document.querySelector('#' + key + ' button');\n",
              "      quickchartButtonEl.disabled = true;  // To prevent multiple clicks.\n",
              "      quickchartButtonEl.classList.add('colab-df-spinner');\n",
              "      try {\n",
              "        const charts = await google.colab.kernel.invokeFunction(\n",
              "            'suggestCharts', [key], {});\n",
              "      } catch (error) {\n",
              "        console.error('Error during call to suggestCharts:', error);\n",
              "      }\n",
              "      quickchartButtonEl.classList.remove('colab-df-spinner');\n",
              "      quickchartButtonEl.classList.add('colab-df-quickchart-complete');\n",
              "    }\n",
              "    (() => {\n",
              "      let quickchartButtonEl =\n",
              "        document.querySelector('#df-394480ac-bce1-4194-a546-699ab67c00d3 button');\n",
              "      quickchartButtonEl.style.display =\n",
              "        google.colab.kernel.accessAllowed ? 'block' : 'none';\n",
              "    })();\n",
              "  </script>\n",
              "</div>\n",
              "\n",
              "    </div>\n",
              "  </div>\n"
            ]
          },
          "metadata": {},
          "execution_count": 9
        }
      ],
      "source": [
        "df.drop_duplicates()"
      ]
    },
    {
      "cell_type": "markdown",
      "metadata": {
        "id": "ejIsxx32hZIn"
      },
      "source": [
        "Verify if duplicates were actually dropped.\n"
      ]
    },
    {
      "cell_type": "code",
      "execution_count": 10,
      "metadata": {
        "colab": {
          "base_uri": "https://localhost:8080/"
        },
        "id": "TRZBr_xIhZIn",
        "outputId": "985848df-ed8b-42ab-adf6-678a74a07868"
      },
      "outputs": [
        {
          "output_type": "stream",
          "name": "stdout",
          "text": [
            "Duplicate rows were successfully removed.\n"
          ]
        }
      ],
      "source": [
        "df_no_duplicates = df.drop_duplicates()\n",
        "\n",
        "if len(df) == len(df_no_duplicates):\n",
        "    print(\"No duplicate rows were found.\")\n",
        "else:\n",
        "    print(\"Duplicate rows were successfully removed.\")"
      ]
    },
    {
      "cell_type": "markdown",
      "metadata": {
        "id": "Uwa_Kat-hZIn"
      },
      "source": [
        "## Finding Missing values\n"
      ]
    },
    {
      "cell_type": "markdown",
      "metadata": {
        "id": "_wM7BAOIhZIn"
      },
      "source": [
        "Find the missing values for all columns.\n"
      ]
    },
    {
      "cell_type": "code",
      "execution_count": 12,
      "metadata": {
        "colab": {
          "base_uri": "https://localhost:8080/"
        },
        "id": "-ByL2L4khZIo",
        "outputId": "a60032e9-4514-434b-926b-287cdecd6067"
      },
      "outputs": [
        {
          "output_type": "stream",
          "name": "stdout",
          "text": [
            "Missing values for each column:\n",
            "Respondent        0\n",
            "MainBranch        0\n",
            "Hobbyist          0\n",
            "OpenSourcer       0\n",
            "OpenSource       81\n",
            "               ... \n",
            "Sexuality       547\n",
            "Ethnicity       683\n",
            "Dependents      144\n",
            "SurveyLength     19\n",
            "SurveyEase       14\n",
            "Length: 85, dtype: int64\n"
          ]
        }
      ],
      "source": [
        "missing_values = df.isnull().sum()\n",
        "\n",
        "# Display the missing values for each column\n",
        "print(\"Missing values for each column:\")\n",
        "print(missing_values)\n"
      ]
    },
    {
      "cell_type": "markdown",
      "metadata": {
        "id": "nXiG_S7lhZIo"
      },
      "source": [
        "Find out how many rows are missing in the column 'WorkLoc'\n"
      ]
    },
    {
      "cell_type": "code",
      "execution_count": 14,
      "metadata": {
        "colab": {
          "base_uri": "https://localhost:8080/"
        },
        "id": "DcusswgmhZIo",
        "outputId": "17d5e00b-2a49-474a-cfc8-303598fd0075"
      },
      "outputs": [
        {
          "output_type": "stream",
          "name": "stdout",
          "text": [
            "Number of missing rows in the 'WorkLoc' column: 32\n"
          ]
        }
      ],
      "source": [
        "missing_rows_workloc = df['WorkLoc'].isnull().sum()\n",
        "\n",
        "print(f\"Number of missing rows in the 'WorkLoc' column: {missing_rows_workloc}\")\n"
      ]
    },
    {
      "cell_type": "markdown",
      "metadata": {
        "id": "6WQqnqe7hZIo"
      },
      "source": [
        "## Imputing missing values\n"
      ]
    },
    {
      "cell_type": "markdown",
      "metadata": {
        "id": "3QLI84euhZIo"
      },
      "source": [
        "Find the  value counts for the column WorkLoc.\n"
      ]
    },
    {
      "cell_type": "code",
      "execution_count": 15,
      "metadata": {
        "colab": {
          "base_uri": "https://localhost:8080/"
        },
        "id": "R5u-o9HshZIo",
        "outputId": "d96984e8-4a5c-49a6-e34c-af56c9ddcd16"
      },
      "outputs": [
        {
          "output_type": "stream",
          "name": "stdout",
          "text": [
            "Value counts for the 'WorkLoc' column:\n",
            "Office                                            6905\n",
            "Home                                              3638\n",
            "Other place, such as a coworking space or cafe     977\n",
            "Name: WorkLoc, dtype: int64\n"
          ]
        }
      ],
      "source": [
        "workloc_value_counts = df['WorkLoc'].value_counts()\n",
        "\n",
        "print(\"Value counts for the 'WorkLoc' column:\")\n",
        "print(workloc_value_counts)\n"
      ]
    },
    {
      "cell_type": "markdown",
      "metadata": {
        "id": "GOCoVZjqhZIp"
      },
      "source": [
        "Identify the value that is most frequent (majority) in the WorkLoc column.\n"
      ]
    },
    {
      "cell_type": "code",
      "execution_count": 16,
      "metadata": {
        "colab": {
          "base_uri": "https://localhost:8080/"
        },
        "id": "9UveQmBrhZIp",
        "outputId": "f254625c-41b8-4094-d8bd-91220d9bd38d"
      },
      "outputs": [
        {
          "output_type": "stream",
          "name": "stdout",
          "text": [
            "The most frequent value in the 'WorkLoc' column is: Office\n"
          ]
        }
      ],
      "source": [
        "most_frequent_workloc = df['WorkLoc'].value_counts().idxmax()\n",
        "\n",
        "print(f\"The most frequent value in the 'WorkLoc' column is: {most_frequent_workloc}\")\n",
        "#make a note of the majority value here, for future reference\n",
        "#Officce"
      ]
    },
    {
      "cell_type": "markdown",
      "metadata": {
        "id": "5uDpzbqFhZIp"
      },
      "source": [
        "Impute (replace) all the empty rows in the column WorkLoc with the value that you have identified as majority.\n"
      ]
    },
    {
      "cell_type": "code",
      "execution_count": null,
      "metadata": {
        "id": "jSKaddIChZIp"
      },
      "outputs": [],
      "source": [
        "df['WorkLoc'].fillna(most_frequent_workloc, inplace=True)"
      ]
    },
    {
      "cell_type": "markdown",
      "metadata": {
        "id": "EImX4FhDhZIp"
      },
      "source": [
        "After imputation there should ideally not be any empty rows in the WorkLoc column.\n"
      ]
    },
    {
      "cell_type": "markdown",
      "metadata": {
        "id": "nEWOWJ7rhZIp"
      },
      "source": [
        "Verify if imputing was successful.\n"
      ]
    },
    {
      "cell_type": "code",
      "execution_count": 18,
      "metadata": {
        "colab": {
          "base_uri": "https://localhost:8080/"
        },
        "id": "3O5OLfCKhZIq",
        "outputId": "3b3f3736-1666-47f2-e229-e72e67a0a446"
      },
      "outputs": [
        {
          "output_type": "stream",
          "name": "stdout",
          "text": [
            "Number of missing values after imputation: 0\n"
          ]
        }
      ],
      "source": [
        "print(\"Number of missing values after imputation:\", df['WorkLoc'].isnull().sum())"
      ]
    },
    {
      "cell_type": "markdown",
      "metadata": {
        "id": "C0O4BUabhZIq"
      },
      "source": [
        "## Normalizing data\n"
      ]
    },
    {
      "cell_type": "markdown",
      "metadata": {
        "id": "aE1M5hx7hZIq"
      },
      "source": [
        "There are two columns in the dataset that talk about compensation.\n",
        "\n",
        "One is \"CompFreq\". This column shows how often a developer is paid (Yearly, Monthly, Weekly).\n",
        "\n",
        "The other is \"CompTotal\". This column talks about how much the developer is paid per Year, Month, or Week depending upon his/her \"CompFreq\".\n",
        "\n",
        "This makes it difficult to compare the total compensation of the developers.\n",
        "\n",
        "In this section you will create a new column called 'NormalizedAnnualCompensation' which contains the 'Annual Compensation' irrespective of the 'CompFreq'.\n",
        "\n",
        "Once this column is ready, it makes comparison of salaries easy.\n"
      ]
    },
    {
      "cell_type": "markdown",
      "metadata": {
        "id": "cksoZgPehZIx"
      },
      "source": [
        "<hr>\n"
      ]
    },
    {
      "cell_type": "markdown",
      "metadata": {
        "id": "GhRNJQmvhZIx"
      },
      "source": [
        "List out the various categories in the column 'CompFreq'\n"
      ]
    },
    {
      "cell_type": "code",
      "execution_count": 19,
      "metadata": {
        "colab": {
          "base_uri": "https://localhost:8080/"
        },
        "id": "lrrulOYhhZIy",
        "outputId": "6ec3eef3-d135-4a84-e53f-e0bb5c68d44a"
      },
      "outputs": [
        {
          "output_type": "stream",
          "name": "stdout",
          "text": [
            "Categories in the 'CompFreq' column:\n",
            "['Yearly' 'Monthly' 'Weekly' nan]\n"
          ]
        }
      ],
      "source": [
        "compfreq_categories = df['CompFreq'].unique()\n",
        "\n",
        "print(\"Categories in the 'CompFreq' column:\")\n",
        "print(compfreq_categories)\n"
      ]
    },
    {
      "cell_type": "markdown",
      "metadata": {
        "id": "N1udXxIvhZIy"
      },
      "source": [
        "Create a new column named 'NormalizedAnnualCompensation'. Use the hint given below if needed.\n"
      ]
    },
    {
      "cell_type": "markdown",
      "metadata": {
        "id": "DrbROju0hZIy"
      },
      "source": [
        "Double click to see the **Hint**.\n",
        "\n",
        "<!--\n",
        "\n",
        "Use the below logic to arrive at the values for the column NormalizedAnnualCompensation.\n",
        "\n",
        "If the CompFreq is Yearly then use the exising value in CompTotal\n",
        "If the CompFreq is Monthly then multiply the value in CompTotal with 12 (months in an year)\n",
        "If the CompFreq is Weekly then multiply the value in CompTotal with 52 (weeks in an year)\n",
        "\n",
        "-->\n"
      ]
    },
    {
      "cell_type": "code",
      "execution_count": 22,
      "metadata": {
        "colab": {
          "base_uri": "https://localhost:8080/"
        },
        "id": "McqZd6yyhZIy",
        "outputId": "d309f39c-fd14-4973-bf49-cda8ed7cca09"
      },
      "outputs": [
        {
          "output_type": "stream",
          "name": "stdout",
          "text": [
            "DataFrame with the new 'NormalizedAnnualCompensation' column:\n",
            "       Respondent                      MainBranch Hobbyist  \\\n",
            "0               4  I am a developer by profession       No   \n",
            "1               9  I am a developer by profession      Yes   \n",
            "2              13  I am a developer by profession      Yes   \n",
            "3              16  I am a developer by profession      Yes   \n",
            "4              17  I am a developer by profession      Yes   \n",
            "...           ...                             ...      ...   \n",
            "11547       25136  I am a developer by profession      Yes   \n",
            "11548       25137  I am a developer by profession      Yes   \n",
            "11549       25138  I am a developer by profession      Yes   \n",
            "11550       25141  I am a developer by profession      Yes   \n",
            "11551       25142  I am a developer by profession      Yes   \n",
            "\n",
            "                                             OpenSourcer  \\\n",
            "0                                                  Never   \n",
            "1                             Once a month or more often   \n",
            "2      Less than once a month but more than once per ...   \n",
            "3                                                  Never   \n",
            "4      Less than once a month but more than once per ...   \n",
            "...                                                  ...   \n",
            "11547                                              Never   \n",
            "11548                                              Never   \n",
            "11549                            Less than once per year   \n",
            "11550  Less than once a month but more than once per ...   \n",
            "11551  Less than once a month but more than once per ...   \n",
            "\n",
            "                                              OpenSource          Employment  \\\n",
            "0      The quality of OSS and closed source software ...  Employed full-time   \n",
            "1      The quality of OSS and closed source software ...  Employed full-time   \n",
            "2      OSS is, on average, of HIGHER quality than pro...  Employed full-time   \n",
            "3      The quality of OSS and closed source software ...  Employed full-time   \n",
            "4      The quality of OSS and closed source software ...  Employed full-time   \n",
            "...                                                  ...                 ...   \n",
            "11547  OSS is, on average, of HIGHER quality than pro...  Employed full-time   \n",
            "11548  The quality of OSS and closed source software ...  Employed full-time   \n",
            "11549  The quality of OSS and closed source software ...  Employed full-time   \n",
            "11550  OSS is, on average, of LOWER quality than prop...  Employed full-time   \n",
            "11551  OSS is, on average, of HIGHER quality than pro...  Employed full-time   \n",
            "\n",
            "              Country Student  \\\n",
            "0       United States      No   \n",
            "1         New Zealand      No   \n",
            "2       United States      No   \n",
            "3      United Kingdom      No   \n",
            "4           Australia      No   \n",
            "...               ...     ...   \n",
            "11547   United States      No   \n",
            "11548          Poland      No   \n",
            "11549   United States      No   \n",
            "11550     Switzerland      No   \n",
            "11551  United Kingdom      No   \n",
            "\n",
            "                                                 EdLevel  \\\n",
            "0               Bachelor’s degree (BA, BS, B.Eng., etc.)   \n",
            "1      Some college/university study without earning ...   \n",
            "2            Master’s degree (MA, MS, M.Eng., MBA, etc.)   \n",
            "3            Master’s degree (MA, MS, M.Eng., MBA, etc.)   \n",
            "4               Bachelor’s degree (BA, BS, B.Eng., etc.)   \n",
            "...                                                  ...   \n",
            "11547        Master’s degree (MA, MS, M.Eng., MBA, etc.)   \n",
            "11548        Master’s degree (MA, MS, M.Eng., MBA, etc.)   \n",
            "11549        Master’s degree (MA, MS, M.Eng., MBA, etc.)   \n",
            "11550  Secondary school (e.g. American high school, G...   \n",
            "11551          Other doctoral degree (Ph.D, Ed.D., etc.)   \n",
            "\n",
            "                                          UndergradMajor  ...  \\\n",
            "0      Computer science, computer engineering, or sof...  ...   \n",
            "1      Computer science, computer engineering, or sof...  ...   \n",
            "2      Computer science, computer engineering, or sof...  ...   \n",
            "3                                                    NaN  ...   \n",
            "4      Computer science, computer engineering, or sof...  ...   \n",
            "...                                                  ...  ...   \n",
            "11547  Computer science, computer engineering, or sof...  ...   \n",
            "11548  Computer science, computer engineering, or sof...  ...   \n",
            "11549  Computer science, computer engineering, or sof...  ...   \n",
            "11550                                                NaN  ...   \n",
            "11551  A natural science (ex. biology, chemistry, phy...  ...   \n",
            "\n",
            "                                            SONewContent   Age Gender Trans  \\\n",
            "0      Tech articles written by other developers;Indu...  22.0    Man    No   \n",
            "1                                                    NaN  23.0    Man    No   \n",
            "2      Tech articles written by other developers;Cour...  28.0    Man    No   \n",
            "3      Tech articles written by other developers;Indu...  26.0    Man    No   \n",
            "4      Tech articles written by other developers;Indu...  29.0    Man    No   \n",
            "...                                                  ...   ...    ...   ...   \n",
            "11547  Tech articles written by other developers;Cour...  36.0    Man    No   \n",
            "11548  Tech articles written by other developers;Tech...  25.0    Man    No   \n",
            "11549  Tech articles written by other developers;Indu...  34.0    Man    No   \n",
            "11550                                                NaN  25.0    Man    No   \n",
            "11551  Tech articles written by other developers;Tech...  30.0    Man    No   \n",
            "\n",
            "                     Sexuality                              Ethnicity  \\\n",
            "0      Straight / Heterosexual           White or of European descent   \n",
            "1                     Bisexual           White or of European descent   \n",
            "2      Straight / Heterosexual           White or of European descent   \n",
            "3      Straight / Heterosexual           White or of European descent   \n",
            "4      Straight / Heterosexual  Hispanic or Latino/Latina;Multiracial   \n",
            "...                        ...                                    ...   \n",
            "11547  Straight / Heterosexual           White or of European descent   \n",
            "11548  Straight / Heterosexual           White or of European descent   \n",
            "11549  Straight / Heterosexual           White or of European descent   \n",
            "11550  Straight / Heterosexual           White or of European descent   \n",
            "11551                 Bisexual           White or of European descent   \n",
            "\n",
            "      Dependents           SurveyLength                  SurveyEase  \\\n",
            "0             No  Appropriate in length                        Easy   \n",
            "1             No  Appropriate in length  Neither easy nor difficult   \n",
            "2            Yes  Appropriate in length                        Easy   \n",
            "3             No  Appropriate in length  Neither easy nor difficult   \n",
            "4             No  Appropriate in length                        Easy   \n",
            "...          ...                    ...                         ...   \n",
            "11547         No  Appropriate in length                   Difficult   \n",
            "11548         No  Appropriate in length  Neither easy nor difficult   \n",
            "11549        Yes               Too long                        Easy   \n",
            "11550         No  Appropriate in length                        Easy   \n",
            "11551         No  Appropriate in length                        Easy   \n",
            "\n",
            "      NormalizedAnnualCompensation  \n",
            "0                          61000.0  \n",
            "1                         138000.0  \n",
            "2                          90000.0  \n",
            "3                         348000.0  \n",
            "4                          90000.0  \n",
            "...                            ...  \n",
            "11547                     130000.0  \n",
            "11548                      74400.0  \n",
            "11549                     105000.0  \n",
            "11550                      80000.0  \n",
            "11551                          NaN  \n",
            "\n",
            "[11552 rows x 86 columns]\n"
          ]
        }
      ],
      "source": [
        "comptotal_column = 'CompTotal'\n",
        "compfreq_column = 'CompFreq'\n",
        "\n",
        "# Create a new column 'NormalizedAnnualCompensation'\n",
        "# This assumes 'CompFreq' contains values like 'Yearly', 'Monthly', etc.\n",
        "df['NormalizedAnnualCompensation'] = df.apply(lambda row: row[comptotal_column] * 12 if row[compfreq_column] == 'Monthly' else row[comptotal_column] if row[compfreq_column] == 'Yearly' else None, axis=1)\n",
        "\n",
        "# Display the DataFrame with the new column\n",
        "print(\"DataFrame with the new 'NormalizedAnnualCompensation' column:\")\n",
        "print(df)\n"
      ]
    },
    {
      "cell_type": "markdown",
      "metadata": {
        "id": "gNtV41GChZIz"
      },
      "source": [
        "## Authors\n"
      ]
    },
    {
      "cell_type": "markdown",
      "metadata": {
        "id": "T84mKINchZIz"
      },
      "source": [
        "Ramesh Sannareddy\n"
      ]
    },
    {
      "cell_type": "markdown",
      "metadata": {
        "id": "JW0ZeabjhZIz"
      },
      "source": [
        "### Other Contributors\n"
      ]
    },
    {
      "cell_type": "markdown",
      "metadata": {
        "id": "S2UIeUnahZIz"
      },
      "source": [
        "Rav Ahuja\n"
      ]
    },
    {
      "cell_type": "markdown",
      "metadata": {
        "id": "0PLmLhAShZIz"
      },
      "source": [
        "## Change Log\n"
      ]
    },
    {
      "cell_type": "markdown",
      "metadata": {
        "id": "DOjf7t90hZI0"
      },
      "source": [
        "| Date (YYYY-MM-DD) | Version | Changed By        | Change Description                 |\n",
        "| ----------------- | ------- | ----------------- | ---------------------------------- |\n",
        "| 2020-10-17        | 0.1     | Ramesh Sannareddy | Created initial version of the lab |\n"
      ]
    },
    {
      "cell_type": "markdown",
      "metadata": {
        "id": "aeILR_P6hZI0"
      },
      "source": [
        " Copyright © 2020 IBM Corporation. This notebook and its source code are released under the terms of the [MIT License](https://cognitiveclass.ai/mit-license?utm_medium=Exinfluencer&utm_source=Exinfluencer&utm_content=000026UJ&utm_term=10006555&utm_id=NA-SkillsNetwork-Channel-SkillsNetworkCoursesIBMDA0321ENSkillsNetwork928-2022-01-01&cm_mmc=Email_Newsletter-_-Developer_Ed%2BTech-_-WW_WW-_-SkillsNetwork-Courses-IBM-DA0321EN-SkillsNetwork-21426264&cm_mmca1=000026UJ&cm_mmca2=10006555&cm_mmca3=M12345678&cvosrc=email.Newsletter.M12345678&cvo_campaign=000026UJ).\n"
      ]
    }
  ],
  "metadata": {
    "kernelspec": {
      "display_name": "Python",
      "language": "python",
      "name": "conda-env-python-py"
    },
    "language_info": {
      "name": ""
    },
    "colab": {
      "provenance": [],
      "include_colab_link": true
    }
  },
  "nbformat": 4,
  "nbformat_minor": 0
}